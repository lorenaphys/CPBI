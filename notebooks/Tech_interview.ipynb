{
 "cells": [
  {
   "cell_type": "markdown",
   "id": "a35045c3",
   "metadata": {},
   "source": [
    "# Tech interview - CPBI"
   ]
  },
  {
   "cell_type": "markdown",
   "id": "0259201e",
   "metadata": {},
   "source": [
    "I decided to work with the [investigation folders of **FGJ**](https://datos.cdmx.gob.mx/dataset/carpetas-de-investigacion-fgj-de-la-ciudad-de-mexico/resource/48fcb848-220c-4af0-839b-4fd8ac812c0f \"database link\") of Mexico. I chose this database because I find very interesting analize crime incidence in the country, specially in Mexico city, figuring out what are the zones with the highest incidence of crime."
   ]
  },
  {
   "cell_type": "markdown",
   "id": "8cfa6a1d",
   "metadata": {},
   "source": [
    "## Description of the database "
   ]
  },
  {
   "cell_type": "markdown",
   "id": "e8e788aa",
   "metadata": {},
   "source": [
    "In this database there are the records of crime reported in the country, we can find the date, location and type of crime at every record."
   ]
  },
  {
   "cell_type": "markdown",
   "id": "92d9146e",
   "metadata": {},
   "source": [
    "## Plotting "
   ]
  },
  {
   "cell_type": "code",
   "execution_count": 2,
   "id": "574ed703",
   "metadata": {},
   "outputs": [],
   "source": [
    "import pandas as pd\n",
    "import plotly.express as px"
   ]
  },
  {
   "cell_type": "markdown",
   "id": "5b8aebe3",
   "metadata": {},
   "source": [
    "I'm going to set the column **fecha_hechos** as the index."
   ]
  },
  {
   "cell_type": "code",
   "execution_count": 69,
   "id": "51cbd01a",
   "metadata": {},
   "outputs": [],
   "source": [
    "crime_records = pd.read_csv('../databases/carpetas_completa_abril_2022.csv', dtype='unicode', index_col = 'fecha_hechos')"
   ]
  },
  {
   "cell_type": "markdown",
   "id": "3bf273d6",
   "metadata": {},
   "source": [
    "Let's see what the first 5 rows to understand what we have:"
   ]
  },
  {
   "cell_type": "code",
   "execution_count": 79,
   "id": "837725bf",
   "metadata": {},
   "outputs": [
    {
     "data": {
      "text/html": [
       "<div>\n",
       "<style scoped>\n",
       "    .dataframe tbody tr th:only-of-type {\n",
       "        vertical-align: middle;\n",
       "    }\n",
       "\n",
       "    .dataframe tbody tr th {\n",
       "        vertical-align: top;\n",
       "    }\n",
       "\n",
       "    .dataframe thead th {\n",
       "        text-align: right;\n",
       "    }\n",
       "</style>\n",
       "<table border=\"1\" class=\"dataframe\">\n",
       "  <thead>\n",
       "    <tr style=\"text-align: right;\">\n",
       "      <th></th>\n",
       "      <th>ao_hechos</th>\n",
       "      <th>mes_hechos</th>\n",
       "      <th>ao_inicio</th>\n",
       "      <th>mes_inicio</th>\n",
       "      <th>fecha_inicio</th>\n",
       "      <th>delito</th>\n",
       "      <th>fiscalia</th>\n",
       "      <th>agencia</th>\n",
       "      <th>unidad_investigacion</th>\n",
       "      <th>categoria_delito</th>\n",
       "      <th>calle_hechos</th>\n",
       "      <th>calle_hechos2</th>\n",
       "      <th>colonia_hechos</th>\n",
       "      <th>alcaldia_hechos</th>\n",
       "      <th>competencia</th>\n",
       "      <th>longitud</th>\n",
       "      <th>latitud</th>\n",
       "      <th>tempo</th>\n",
       "    </tr>\n",
       "    <tr>\n",
       "      <th>fecha_hechos</th>\n",
       "      <th></th>\n",
       "      <th></th>\n",
       "      <th></th>\n",
       "      <th></th>\n",
       "      <th></th>\n",
       "      <th></th>\n",
       "      <th></th>\n",
       "      <th></th>\n",
       "      <th></th>\n",
       "      <th></th>\n",
       "      <th></th>\n",
       "      <th></th>\n",
       "      <th></th>\n",
       "      <th></th>\n",
       "      <th></th>\n",
       "      <th></th>\n",
       "      <th></th>\n",
       "      <th></th>\n",
       "    </tr>\n",
       "  </thead>\n",
       "  <tbody>\n",
       "    <tr>\n",
       "      <th>2016-01-31 22:16:00</th>\n",
       "      <td>2016</td>\n",
       "      <td>Enero</td>\n",
       "      <td>2016</td>\n",
       "      <td>Febrero</td>\n",
       "      <td>2016-02-01 00:25:44</td>\n",
       "      <td>DAÑO EN PROPIEDAD AJENA INTENCIONAL</td>\n",
       "      <td>INVESTIGACIÓN EN BENITO JUÁREZ</td>\n",
       "      <td>BJ-2</td>\n",
       "      <td>UI-3CD</td>\n",
       "      <td>DELITO DE BAJO IMPACTO</td>\n",
       "      <td>CALZ. DE TLALPAN</td>\n",
       "      <td>LAGO PTE.</td>\n",
       "      <td>AMÉRICAS UNIDAS</td>\n",
       "      <td>BENITO JUAREZ</td>\n",
       "      <td>NaN</td>\n",
       "      <td>-99.1402149999999</td>\n",
       "      <td>19.3803149998337</td>\n",
       "      <td>NaN</td>\n",
       "    </tr>\n",
       "    <tr>\n",
       "      <th>2016-01-31 20:50:00</th>\n",
       "      <td>2016</td>\n",
       "      <td>Enero</td>\n",
       "      <td>2016</td>\n",
       "      <td>Febrero</td>\n",
       "      <td>2016-02-01 00:52:37</td>\n",
       "      <td>ROBO DE VEHICULO DE SERVICIO PARTICULAR CON VI...</td>\n",
       "      <td>INVESTIGACIÓN PARA LA ATENCIÓN DEL DELITO DE R...</td>\n",
       "      <td>ORIENTEII</td>\n",
       "      <td>UI-3CD</td>\n",
       "      <td>ROBO DE VEHÍCULO CON Y SIN VIOLENCIA</td>\n",
       "      <td>SUR 25 A</td>\n",
       "      <td>GRANJEROS</td>\n",
       "      <td>LOS CIPRESES</td>\n",
       "      <td>IZTAPALAPA</td>\n",
       "      <td>NaN</td>\n",
       "      <td>-99.1084029999999</td>\n",
       "      <td>19.3528589998337</td>\n",
       "      <td>NaN</td>\n",
       "    </tr>\n",
       "    <tr>\n",
       "      <th>2016-02-01 00:30:00</th>\n",
       "      <td>2016</td>\n",
       "      <td>Febrero</td>\n",
       "      <td>2016</td>\n",
       "      <td>Febrero</td>\n",
       "      <td>2016-02-01 01:33:26</td>\n",
       "      <td>NARCOMENUDEO POSESION SIMPLE</td>\n",
       "      <td>INVESTIGACIÓN PARA LA ATENCIÓN DE NIÑOS, NIÑAS...</td>\n",
       "      <td>57</td>\n",
       "      <td>UI-3CD</td>\n",
       "      <td>DELITO DE BAJO IMPACTO</td>\n",
       "      <td>BATALLONES ROJOS</td>\n",
       "      <td>NaN</td>\n",
       "      <td>UNIDAD VICENTE GUERRERO</td>\n",
       "      <td>IZTAPALAPA</td>\n",
       "      <td>NaN</td>\n",
       "      <td>-99.061321</td>\n",
       "      <td>19.3564509998336</td>\n",
       "      <td>NaN</td>\n",
       "    </tr>\n",
       "    <tr>\n",
       "      <th>2016-01-31 22:00:00</th>\n",
       "      <td>2016</td>\n",
       "      <td>Enero</td>\n",
       "      <td>2016</td>\n",
       "      <td>Febrero</td>\n",
       "      <td>2016-02-01 02:09:11</td>\n",
       "      <td>ROBO A TRANSEUNTE EN VIA PUBLICA CON VIOLENCIA</td>\n",
       "      <td>INVESTIGACIÓN EN IZTAPALAPA</td>\n",
       "      <td>IZP-6</td>\n",
       "      <td>UI-3CD</td>\n",
       "      <td>ROBO A TRANSEUNTE EN VÍA PÚBLICA CON Y SIN VIO...</td>\n",
       "      <td>GERANIO</td>\n",
       "      <td>GAVILLEROS</td>\n",
       "      <td>EMILIANO ZAPATA</td>\n",
       "      <td>IZTAPALAPA</td>\n",
       "      <td>NaN</td>\n",
       "      <td>-98.9763790000001</td>\n",
       "      <td>19.3316329998333</td>\n",
       "      <td>NaN</td>\n",
       "    </tr>\n",
       "    <tr>\n",
       "      <th>2015-12-25 12:00:00</th>\n",
       "      <td>2015</td>\n",
       "      <td>Diciembre</td>\n",
       "      <td>2016</td>\n",
       "      <td>Febrero</td>\n",
       "      <td>2016-02-01 02:16:49</td>\n",
       "      <td>DENUNCIA DE HECHOS</td>\n",
       "      <td>INVESTIGACIÓN EN BENITO JUÁREZ</td>\n",
       "      <td>BJ-1</td>\n",
       "      <td>UI-3SD</td>\n",
       "      <td>HECHO NO DELICTIVO</td>\n",
       "      <td>SAN FRANCISCO</td>\n",
       "      <td>AVENIDA COLONIA DEL VALLE</td>\n",
       "      <td>DEL VALLE CENTRO</td>\n",
       "      <td>BENITO JUAREZ</td>\n",
       "      <td>NaN</td>\n",
       "      <td>-99.1721889999999</td>\n",
       "      <td>19.387113999834</td>\n",
       "      <td>NaN</td>\n",
       "    </tr>\n",
       "  </tbody>\n",
       "</table>\n",
       "</div>"
      ],
      "text/plain": [
       "                    ao_hechos mes_hechos ao_inicio mes_inicio  \\\n",
       "fecha_hechos                                                    \n",
       "2016-01-31 22:16:00      2016      Enero      2016    Febrero   \n",
       "2016-01-31 20:50:00      2016      Enero      2016    Febrero   \n",
       "2016-02-01 00:30:00      2016    Febrero      2016    Febrero   \n",
       "2016-01-31 22:00:00      2016      Enero      2016    Febrero   \n",
       "2015-12-25 12:00:00      2015  Diciembre      2016    Febrero   \n",
       "\n",
       "                           fecha_inicio  \\\n",
       "fecha_hechos                              \n",
       "2016-01-31 22:16:00 2016-02-01 00:25:44   \n",
       "2016-01-31 20:50:00 2016-02-01 00:52:37   \n",
       "2016-02-01 00:30:00 2016-02-01 01:33:26   \n",
       "2016-01-31 22:00:00 2016-02-01 02:09:11   \n",
       "2015-12-25 12:00:00 2016-02-01 02:16:49   \n",
       "\n",
       "                                                                delito  \\\n",
       "fecha_hechos                                                             \n",
       "2016-01-31 22:16:00                DAÑO EN PROPIEDAD AJENA INTENCIONAL   \n",
       "2016-01-31 20:50:00  ROBO DE VEHICULO DE SERVICIO PARTICULAR CON VI...   \n",
       "2016-02-01 00:30:00                       NARCOMENUDEO POSESION SIMPLE   \n",
       "2016-01-31 22:00:00     ROBO A TRANSEUNTE EN VIA PUBLICA CON VIOLENCIA   \n",
       "2015-12-25 12:00:00                                 DENUNCIA DE HECHOS   \n",
       "\n",
       "                                                              fiscalia  \\\n",
       "fecha_hechos                                                             \n",
       "2016-01-31 22:16:00                     INVESTIGACIÓN EN BENITO JUÁREZ   \n",
       "2016-01-31 20:50:00  INVESTIGACIÓN PARA LA ATENCIÓN DEL DELITO DE R...   \n",
       "2016-02-01 00:30:00  INVESTIGACIÓN PARA LA ATENCIÓN DE NIÑOS, NIÑAS...   \n",
       "2016-01-31 22:00:00                        INVESTIGACIÓN EN IZTAPALAPA   \n",
       "2015-12-25 12:00:00                     INVESTIGACIÓN EN BENITO JUÁREZ   \n",
       "\n",
       "                       agencia unidad_investigacion  \\\n",
       "fecha_hechos                                          \n",
       "2016-01-31 22:16:00       BJ-2               UI-3CD   \n",
       "2016-01-31 20:50:00  ORIENTEII               UI-3CD   \n",
       "2016-02-01 00:30:00         57               UI-3CD   \n",
       "2016-01-31 22:00:00      IZP-6               UI-3CD   \n",
       "2015-12-25 12:00:00       BJ-1               UI-3SD   \n",
       "\n",
       "                                                      categoria_delito  \\\n",
       "fecha_hechos                                                             \n",
       "2016-01-31 22:16:00                             DELITO DE BAJO IMPACTO   \n",
       "2016-01-31 20:50:00               ROBO DE VEHÍCULO CON Y SIN VIOLENCIA   \n",
       "2016-02-01 00:30:00                             DELITO DE BAJO IMPACTO   \n",
       "2016-01-31 22:00:00  ROBO A TRANSEUNTE EN VÍA PÚBLICA CON Y SIN VIO...   \n",
       "2015-12-25 12:00:00                                 HECHO NO DELICTIVO   \n",
       "\n",
       "                         calle_hechos              calle_hechos2  \\\n",
       "fecha_hechos                                                       \n",
       "2016-01-31 22:16:00  CALZ. DE TLALPAN                  LAGO PTE.   \n",
       "2016-01-31 20:50:00          SUR 25 A                  GRANJEROS   \n",
       "2016-02-01 00:30:00  BATALLONES ROJOS                        NaN   \n",
       "2016-01-31 22:00:00           GERANIO                 GAVILLEROS   \n",
       "2015-12-25 12:00:00     SAN FRANCISCO  AVENIDA COLONIA DEL VALLE   \n",
       "\n",
       "                              colonia_hechos alcaldia_hechos competencia  \\\n",
       "fecha_hechos                                                               \n",
       "2016-01-31 22:16:00          AMÉRICAS UNIDAS   BENITO JUAREZ         NaN   \n",
       "2016-01-31 20:50:00             LOS CIPRESES      IZTAPALAPA         NaN   \n",
       "2016-02-01 00:30:00  UNIDAD VICENTE GUERRERO      IZTAPALAPA         NaN   \n",
       "2016-01-31 22:00:00          EMILIANO ZAPATA      IZTAPALAPA         NaN   \n",
       "2015-12-25 12:00:00         DEL VALLE CENTRO   BENITO JUAREZ         NaN   \n",
       "\n",
       "                              longitud           latitud tempo  \n",
       "fecha_hechos                                                    \n",
       "2016-01-31 22:16:00  -99.1402149999999  19.3803149998337   NaN  \n",
       "2016-01-31 20:50:00  -99.1084029999999  19.3528589998337   NaN  \n",
       "2016-02-01 00:30:00         -99.061321  19.3564509998336   NaN  \n",
       "2016-01-31 22:00:00  -98.9763790000001  19.3316329998333   NaN  \n",
       "2015-12-25 12:00:00  -99.1721889999999   19.387113999834   NaN  "
      ]
     },
     "execution_count": 79,
     "metadata": {},
     "output_type": "execute_result"
    }
   ],
   "source": [
    "crime_records.head()"
   ]
  },
  {
   "cell_type": "markdown",
   "id": "039b0e10",
   "metadata": {},
   "source": [
    "We have the date of the record, the date of the crime, the crime, the fiscaly were it was recorded, the crime category and adress of the crime. "
   ]
  },
  {
   "cell_type": "markdown",
   "id": "8d449a42",
   "metadata": {},
   "source": [
    "We can analize what's going on with this records focusing on the frequency of the crimes and where they ocurr. "
   ]
  },
  {
   "cell_type": "markdown",
   "id": "f9c1cdcf",
   "metadata": {},
   "source": [
    "First of all, I'm going to set the columns **fecha_hechos** and **fecha_inicio** as datetime objects."
   ]
  },
  {
   "cell_type": "code",
   "execution_count": 77,
   "id": "1b92fd0a",
   "metadata": {},
   "outputs": [],
   "source": [
    "crime_records.index = pd.to_datetime(crime_records.index, format = \"%Y-%m-%d %H:%M:%S\", errors = 'coerce')"
   ]
  },
  {
   "cell_type": "code",
   "execution_count": 73,
   "id": "833835d7",
   "metadata": {},
   "outputs": [],
   "source": [
    "crime_records['fecha_inicio'] = pd.to_datetime(crime_records['fecha_inicio'], format = \"%Y-%m-%d %H:%M:%S\", errors = 'coerce')"
   ]
  },
  {
   "cell_type": "markdown",
   "id": "0e325c76",
   "metadata": {},
   "source": [
    "I'm going to focus just on the records in Mexico city, so, I will filter the database:"
   ]
  },
  {
   "cell_type": "code",
   "execution_count": 80,
   "id": "db736492",
   "metadata": {},
   "outputs": [],
   "source": [
    "alcaldias_cdmx = ['AZCAPOTZALCO', 'ALVARO OBREGON', 'BENITO JUAREZ', 'COYOACAN', 'CUAJIMALPA DE MORELOS','CUAUHTEMOC','GUSTAVO A MADERO', 'IZTACALCO', 'IZTAPALAPA', 'LA MAGDALENA CONTRERAS','MIGUEL HIDALGO','MILPA ALTA', 'TLALPAN','TLAHUAC','VENUSTIANO CARRANZA','XOCHIMILCO']"
   ]
  },
  {
   "cell_type": "code",
   "execution_count": 82,
   "id": "eac200ee",
   "metadata": {},
   "outputs": [],
   "source": [
    "crime_cdmx = crime_records[[locacion in alcaldias_cdmx for locacion in crime_records['alcaldia_hechos']]]"
   ]
  },
  {
   "cell_type": "markdown",
   "id": "f927e437",
   "metadata": {},
   "source": [
    "Now, we can see what is the crime incidence by mayors:"
   ]
  },
  {
   "cell_type": "code",
   "execution_count": 83,
   "id": "16332b43",
   "metadata": {},
   "outputs": [
    {
     "data": {
      "text/plain": [
       "Index(['ao_hechos', 'mes_hechos', 'ao_inicio', 'mes_inicio', 'fecha_inicio',\n",
       "       'delito', 'fiscalia', 'agencia', 'unidad_investigacion',\n",
       "       'categoria_delito', 'calle_hechos', 'calle_hechos2', 'colonia_hechos',\n",
       "       'alcaldia_hechos', 'competencia', 'longitud', 'latitud', 'tempo'],\n",
       "      dtype='object')"
      ]
     },
     "execution_count": 83,
     "metadata": {},
     "output_type": "execute_result"
    }
   ],
   "source": [
    "crime_cdmx.columns"
   ]
  },
  {
   "cell_type": "code",
   "execution_count": 94,
   "id": "11d172b6",
   "metadata": {},
   "outputs": [],
   "source": [
    "freq_crime_cdmx = crime_cdmx.groupby('alcaldia_hechos', as_index = False, group_keys = True)['delito'].count()"
   ]
  },
  {
   "cell_type": "code",
   "execution_count": 99,
   "id": "43348e47",
   "metadata": {},
   "outputs": [
    {
     "data": {
      "application/vnd.plotly.v1+json": {
       "config": {
        "plotlyServerURL": "https://plot.ly"
       },
       "data": [
        {
         "alignmentgroup": "True",
         "bingroup": "x",
         "histfunc": "sum",
         "hovertemplate": "alcaldia_hechos=%{x}<br>sum of delito=%{y}<extra></extra>",
         "legendgroup": "",
         "marker": {
          "color": "#636efa"
         },
         "name": "",
         "offsetgroup": "",
         "orientation": "v",
         "showlegend": false,
         "type": "histogram",
         "x": [
          "ALVARO OBREGON",
          "AZCAPOTZALCO",
          "BENITO JUAREZ",
          "COYOACAN",
          "CUAJIMALPA DE MORELOS",
          "CUAUHTEMOC",
          "GUSTAVO A MADERO",
          "IZTACALCO",
          "IZTAPALAPA",
          "LA MAGDALENA CONTRERAS",
          "MIGUEL HIDALGO",
          "MILPA ALTA",
          "TLAHUAC",
          "TLALPAN",
          "VENUSTIANO CARRANZA",
          "XOCHIMILCO"
         ],
         "xaxis": "x",
         "y": [
          97853,
          70357,
          117158,
          96778,
          21800,
          224197,
          145190,
          60385,
          215045,
          24115,
          92465,
          10991,
          36999,
          85119,
          82585,
          45596
         ],
         "yaxis": "y"
        }
       ],
       "layout": {
        "barmode": "relative",
        "legend": {
         "tracegroupgap": 0
        },
        "margin": {
         "t": 60
        },
        "template": {
         "data": {
          "bar": [
           {
            "error_x": {
             "color": "#2a3f5f"
            },
            "error_y": {
             "color": "#2a3f5f"
            },
            "marker": {
             "line": {
              "color": "#E5ECF6",
              "width": 0.5
             }
            },
            "type": "bar"
           }
          ],
          "barpolar": [
           {
            "marker": {
             "line": {
              "color": "#E5ECF6",
              "width": 0.5
             }
            },
            "type": "barpolar"
           }
          ],
          "carpet": [
           {
            "aaxis": {
             "endlinecolor": "#2a3f5f",
             "gridcolor": "white",
             "linecolor": "white",
             "minorgridcolor": "white",
             "startlinecolor": "#2a3f5f"
            },
            "baxis": {
             "endlinecolor": "#2a3f5f",
             "gridcolor": "white",
             "linecolor": "white",
             "minorgridcolor": "white",
             "startlinecolor": "#2a3f5f"
            },
            "type": "carpet"
           }
          ],
          "choropleth": [
           {
            "colorbar": {
             "outlinewidth": 0,
             "ticks": ""
            },
            "type": "choropleth"
           }
          ],
          "contour": [
           {
            "colorbar": {
             "outlinewidth": 0,
             "ticks": ""
            },
            "colorscale": [
             [
              0,
              "#0d0887"
             ],
             [
              0.1111111111111111,
              "#46039f"
             ],
             [
              0.2222222222222222,
              "#7201a8"
             ],
             [
              0.3333333333333333,
              "#9c179e"
             ],
             [
              0.4444444444444444,
              "#bd3786"
             ],
             [
              0.5555555555555556,
              "#d8576b"
             ],
             [
              0.6666666666666666,
              "#ed7953"
             ],
             [
              0.7777777777777778,
              "#fb9f3a"
             ],
             [
              0.8888888888888888,
              "#fdca26"
             ],
             [
              1,
              "#f0f921"
             ]
            ],
            "type": "contour"
           }
          ],
          "contourcarpet": [
           {
            "colorbar": {
             "outlinewidth": 0,
             "ticks": ""
            },
            "type": "contourcarpet"
           }
          ],
          "heatmap": [
           {
            "colorbar": {
             "outlinewidth": 0,
             "ticks": ""
            },
            "colorscale": [
             [
              0,
              "#0d0887"
             ],
             [
              0.1111111111111111,
              "#46039f"
             ],
             [
              0.2222222222222222,
              "#7201a8"
             ],
             [
              0.3333333333333333,
              "#9c179e"
             ],
             [
              0.4444444444444444,
              "#bd3786"
             ],
             [
              0.5555555555555556,
              "#d8576b"
             ],
             [
              0.6666666666666666,
              "#ed7953"
             ],
             [
              0.7777777777777778,
              "#fb9f3a"
             ],
             [
              0.8888888888888888,
              "#fdca26"
             ],
             [
              1,
              "#f0f921"
             ]
            ],
            "type": "heatmap"
           }
          ],
          "heatmapgl": [
           {
            "colorbar": {
             "outlinewidth": 0,
             "ticks": ""
            },
            "colorscale": [
             [
              0,
              "#0d0887"
             ],
             [
              0.1111111111111111,
              "#46039f"
             ],
             [
              0.2222222222222222,
              "#7201a8"
             ],
             [
              0.3333333333333333,
              "#9c179e"
             ],
             [
              0.4444444444444444,
              "#bd3786"
             ],
             [
              0.5555555555555556,
              "#d8576b"
             ],
             [
              0.6666666666666666,
              "#ed7953"
             ],
             [
              0.7777777777777778,
              "#fb9f3a"
             ],
             [
              0.8888888888888888,
              "#fdca26"
             ],
             [
              1,
              "#f0f921"
             ]
            ],
            "type": "heatmapgl"
           }
          ],
          "histogram": [
           {
            "marker": {
             "colorbar": {
              "outlinewidth": 0,
              "ticks": ""
             }
            },
            "type": "histogram"
           }
          ],
          "histogram2d": [
           {
            "colorbar": {
             "outlinewidth": 0,
             "ticks": ""
            },
            "colorscale": [
             [
              0,
              "#0d0887"
             ],
             [
              0.1111111111111111,
              "#46039f"
             ],
             [
              0.2222222222222222,
              "#7201a8"
             ],
             [
              0.3333333333333333,
              "#9c179e"
             ],
             [
              0.4444444444444444,
              "#bd3786"
             ],
             [
              0.5555555555555556,
              "#d8576b"
             ],
             [
              0.6666666666666666,
              "#ed7953"
             ],
             [
              0.7777777777777778,
              "#fb9f3a"
             ],
             [
              0.8888888888888888,
              "#fdca26"
             ],
             [
              1,
              "#f0f921"
             ]
            ],
            "type": "histogram2d"
           }
          ],
          "histogram2dcontour": [
           {
            "colorbar": {
             "outlinewidth": 0,
             "ticks": ""
            },
            "colorscale": [
             [
              0,
              "#0d0887"
             ],
             [
              0.1111111111111111,
              "#46039f"
             ],
             [
              0.2222222222222222,
              "#7201a8"
             ],
             [
              0.3333333333333333,
              "#9c179e"
             ],
             [
              0.4444444444444444,
              "#bd3786"
             ],
             [
              0.5555555555555556,
              "#d8576b"
             ],
             [
              0.6666666666666666,
              "#ed7953"
             ],
             [
              0.7777777777777778,
              "#fb9f3a"
             ],
             [
              0.8888888888888888,
              "#fdca26"
             ],
             [
              1,
              "#f0f921"
             ]
            ],
            "type": "histogram2dcontour"
           }
          ],
          "mesh3d": [
           {
            "colorbar": {
             "outlinewidth": 0,
             "ticks": ""
            },
            "type": "mesh3d"
           }
          ],
          "parcoords": [
           {
            "line": {
             "colorbar": {
              "outlinewidth": 0,
              "ticks": ""
             }
            },
            "type": "parcoords"
           }
          ],
          "pie": [
           {
            "automargin": true,
            "type": "pie"
           }
          ],
          "scatter": [
           {
            "marker": {
             "colorbar": {
              "outlinewidth": 0,
              "ticks": ""
             }
            },
            "type": "scatter"
           }
          ],
          "scatter3d": [
           {
            "line": {
             "colorbar": {
              "outlinewidth": 0,
              "ticks": ""
             }
            },
            "marker": {
             "colorbar": {
              "outlinewidth": 0,
              "ticks": ""
             }
            },
            "type": "scatter3d"
           }
          ],
          "scattercarpet": [
           {
            "marker": {
             "colorbar": {
              "outlinewidth": 0,
              "ticks": ""
             }
            },
            "type": "scattercarpet"
           }
          ],
          "scattergeo": [
           {
            "marker": {
             "colorbar": {
              "outlinewidth": 0,
              "ticks": ""
             }
            },
            "type": "scattergeo"
           }
          ],
          "scattergl": [
           {
            "marker": {
             "colorbar": {
              "outlinewidth": 0,
              "ticks": ""
             }
            },
            "type": "scattergl"
           }
          ],
          "scattermapbox": [
           {
            "marker": {
             "colorbar": {
              "outlinewidth": 0,
              "ticks": ""
             }
            },
            "type": "scattermapbox"
           }
          ],
          "scatterpolar": [
           {
            "marker": {
             "colorbar": {
              "outlinewidth": 0,
              "ticks": ""
             }
            },
            "type": "scatterpolar"
           }
          ],
          "scatterpolargl": [
           {
            "marker": {
             "colorbar": {
              "outlinewidth": 0,
              "ticks": ""
             }
            },
            "type": "scatterpolargl"
           }
          ],
          "scatterternary": [
           {
            "marker": {
             "colorbar": {
              "outlinewidth": 0,
              "ticks": ""
             }
            },
            "type": "scatterternary"
           }
          ],
          "surface": [
           {
            "colorbar": {
             "outlinewidth": 0,
             "ticks": ""
            },
            "colorscale": [
             [
              0,
              "#0d0887"
             ],
             [
              0.1111111111111111,
              "#46039f"
             ],
             [
              0.2222222222222222,
              "#7201a8"
             ],
             [
              0.3333333333333333,
              "#9c179e"
             ],
             [
              0.4444444444444444,
              "#bd3786"
             ],
             [
              0.5555555555555556,
              "#d8576b"
             ],
             [
              0.6666666666666666,
              "#ed7953"
             ],
             [
              0.7777777777777778,
              "#fb9f3a"
             ],
             [
              0.8888888888888888,
              "#fdca26"
             ],
             [
              1,
              "#f0f921"
             ]
            ],
            "type": "surface"
           }
          ],
          "table": [
           {
            "cells": {
             "fill": {
              "color": "#EBF0F8"
             },
             "line": {
              "color": "white"
             }
            },
            "header": {
             "fill": {
              "color": "#C8D4E3"
             },
             "line": {
              "color": "white"
             }
            },
            "type": "table"
           }
          ]
         },
         "layout": {
          "annotationdefaults": {
           "arrowcolor": "#2a3f5f",
           "arrowhead": 0,
           "arrowwidth": 1
          },
          "coloraxis": {
           "colorbar": {
            "outlinewidth": 0,
            "ticks": ""
           }
          },
          "colorscale": {
           "diverging": [
            [
             0,
             "#8e0152"
            ],
            [
             0.1,
             "#c51b7d"
            ],
            [
             0.2,
             "#de77ae"
            ],
            [
             0.3,
             "#f1b6da"
            ],
            [
             0.4,
             "#fde0ef"
            ],
            [
             0.5,
             "#f7f7f7"
            ],
            [
             0.6,
             "#e6f5d0"
            ],
            [
             0.7,
             "#b8e186"
            ],
            [
             0.8,
             "#7fbc41"
            ],
            [
             0.9,
             "#4d9221"
            ],
            [
             1,
             "#276419"
            ]
           ],
           "sequential": [
            [
             0,
             "#0d0887"
            ],
            [
             0.1111111111111111,
             "#46039f"
            ],
            [
             0.2222222222222222,
             "#7201a8"
            ],
            [
             0.3333333333333333,
             "#9c179e"
            ],
            [
             0.4444444444444444,
             "#bd3786"
            ],
            [
             0.5555555555555556,
             "#d8576b"
            ],
            [
             0.6666666666666666,
             "#ed7953"
            ],
            [
             0.7777777777777778,
             "#fb9f3a"
            ],
            [
             0.8888888888888888,
             "#fdca26"
            ],
            [
             1,
             "#f0f921"
            ]
           ],
           "sequentialminus": [
            [
             0,
             "#0d0887"
            ],
            [
             0.1111111111111111,
             "#46039f"
            ],
            [
             0.2222222222222222,
             "#7201a8"
            ],
            [
             0.3333333333333333,
             "#9c179e"
            ],
            [
             0.4444444444444444,
             "#bd3786"
            ],
            [
             0.5555555555555556,
             "#d8576b"
            ],
            [
             0.6666666666666666,
             "#ed7953"
            ],
            [
             0.7777777777777778,
             "#fb9f3a"
            ],
            [
             0.8888888888888888,
             "#fdca26"
            ],
            [
             1,
             "#f0f921"
            ]
           ]
          },
          "colorway": [
           "#636efa",
           "#EF553B",
           "#00cc96",
           "#ab63fa",
           "#FFA15A",
           "#19d3f3",
           "#FF6692",
           "#B6E880",
           "#FF97FF",
           "#FECB52"
          ],
          "font": {
           "color": "#2a3f5f"
          },
          "geo": {
           "bgcolor": "white",
           "lakecolor": "white",
           "landcolor": "#E5ECF6",
           "showlakes": true,
           "showland": true,
           "subunitcolor": "white"
          },
          "hoverlabel": {
           "align": "left"
          },
          "hovermode": "closest",
          "mapbox": {
           "style": "light"
          },
          "paper_bgcolor": "white",
          "plot_bgcolor": "#E5ECF6",
          "polar": {
           "angularaxis": {
            "gridcolor": "white",
            "linecolor": "white",
            "ticks": ""
           },
           "bgcolor": "#E5ECF6",
           "radialaxis": {
            "gridcolor": "white",
            "linecolor": "white",
            "ticks": ""
           }
          },
          "scene": {
           "xaxis": {
            "backgroundcolor": "#E5ECF6",
            "gridcolor": "white",
            "gridwidth": 2,
            "linecolor": "white",
            "showbackground": true,
            "ticks": "",
            "zerolinecolor": "white"
           },
           "yaxis": {
            "backgroundcolor": "#E5ECF6",
            "gridcolor": "white",
            "gridwidth": 2,
            "linecolor": "white",
            "showbackground": true,
            "ticks": "",
            "zerolinecolor": "white"
           },
           "zaxis": {
            "backgroundcolor": "#E5ECF6",
            "gridcolor": "white",
            "gridwidth": 2,
            "linecolor": "white",
            "showbackground": true,
            "ticks": "",
            "zerolinecolor": "white"
           }
          },
          "shapedefaults": {
           "line": {
            "color": "#2a3f5f"
           }
          },
          "ternary": {
           "aaxis": {
            "gridcolor": "white",
            "linecolor": "white",
            "ticks": ""
           },
           "baxis": {
            "gridcolor": "white",
            "linecolor": "white",
            "ticks": ""
           },
           "bgcolor": "#E5ECF6",
           "caxis": {
            "gridcolor": "white",
            "linecolor": "white",
            "ticks": ""
           }
          },
          "title": {
           "x": 0.05
          },
          "xaxis": {
           "automargin": true,
           "gridcolor": "white",
           "linecolor": "white",
           "ticks": "",
           "title": {
            "standoff": 15
           },
           "zerolinecolor": "white",
           "zerolinewidth": 2
          },
          "yaxis": {
           "automargin": true,
           "gridcolor": "white",
           "linecolor": "white",
           "ticks": "",
           "title": {
            "standoff": 15
           },
           "zerolinecolor": "white",
           "zerolinewidth": 2
          }
         }
        },
        "xaxis": {
         "anchor": "y",
         "domain": [
          0,
          1
         ],
         "title": {
          "text": "alcaldia_hechos"
         }
        },
        "yaxis": {
         "anchor": "x",
         "domain": [
          0,
          1
         ],
         "title": {
          "text": "sum of delito"
         }
        }
       }
      },
      "text/html": [
       "<div>                            <div id=\"95fd57c4-71f4-4dbf-a9c8-fa06616b5807\" class=\"plotly-graph-div\" style=\"height:525px; width:100%;\"></div>            <script type=\"text/javascript\">                require([\"plotly\"], function(Plotly) {                    window.PLOTLYENV=window.PLOTLYENV || {};                                    if (document.getElementById(\"95fd57c4-71f4-4dbf-a9c8-fa06616b5807\")) {                    Plotly.newPlot(                        \"95fd57c4-71f4-4dbf-a9c8-fa06616b5807\",                        [{\"alignmentgroup\": \"True\", \"bingroup\": \"x\", \"histfunc\": \"sum\", \"hovertemplate\": \"alcaldia_hechos=%{x}<br>sum of delito=%{y}<extra></extra>\", \"legendgroup\": \"\", \"marker\": {\"color\": \"#636efa\"}, \"name\": \"\", \"offsetgroup\": \"\", \"orientation\": \"v\", \"showlegend\": false, \"type\": \"histogram\", \"x\": [\"ALVARO OBREGON\", \"AZCAPOTZALCO\", \"BENITO JUAREZ\", \"COYOACAN\", \"CUAJIMALPA DE MORELOS\", \"CUAUHTEMOC\", \"GUSTAVO A MADERO\", \"IZTACALCO\", \"IZTAPALAPA\", \"LA MAGDALENA CONTRERAS\", \"MIGUEL HIDALGO\", \"MILPA ALTA\", \"TLAHUAC\", \"TLALPAN\", \"VENUSTIANO CARRANZA\", \"XOCHIMILCO\"], \"xaxis\": \"x\", \"y\": [97853, 70357, 117158, 96778, 21800, 224197, 145190, 60385, 215045, 24115, 92465, 10991, 36999, 85119, 82585, 45596], \"yaxis\": \"y\"}],                        {\"barmode\": \"relative\", \"legend\": {\"tracegroupgap\": 0}, \"margin\": {\"t\": 60}, \"template\": {\"data\": {\"bar\": [{\"error_x\": {\"color\": \"#2a3f5f\"}, \"error_y\": {\"color\": \"#2a3f5f\"}, \"marker\": {\"line\": {\"color\": \"#E5ECF6\", \"width\": 0.5}}, \"type\": \"bar\"}], \"barpolar\": [{\"marker\": {\"line\": {\"color\": \"#E5ECF6\", \"width\": 0.5}}, \"type\": \"barpolar\"}], \"carpet\": [{\"aaxis\": {\"endlinecolor\": \"#2a3f5f\", \"gridcolor\": \"white\", \"linecolor\": \"white\", \"minorgridcolor\": \"white\", \"startlinecolor\": \"#2a3f5f\"}, \"baxis\": {\"endlinecolor\": \"#2a3f5f\", \"gridcolor\": \"white\", \"linecolor\": \"white\", \"minorgridcolor\": \"white\", \"startlinecolor\": \"#2a3f5f\"}, \"type\": \"carpet\"}], \"choropleth\": [{\"colorbar\": {\"outlinewidth\": 0, \"ticks\": \"\"}, \"type\": \"choropleth\"}], \"contour\": [{\"colorbar\": {\"outlinewidth\": 0, \"ticks\": \"\"}, \"colorscale\": [[0.0, \"#0d0887\"], [0.1111111111111111, \"#46039f\"], [0.2222222222222222, \"#7201a8\"], [0.3333333333333333, \"#9c179e\"], [0.4444444444444444, \"#bd3786\"], [0.5555555555555556, \"#d8576b\"], [0.6666666666666666, \"#ed7953\"], [0.7777777777777778, \"#fb9f3a\"], [0.8888888888888888, \"#fdca26\"], [1.0, \"#f0f921\"]], \"type\": \"contour\"}], \"contourcarpet\": [{\"colorbar\": {\"outlinewidth\": 0, \"ticks\": \"\"}, \"type\": \"contourcarpet\"}], \"heatmap\": [{\"colorbar\": {\"outlinewidth\": 0, \"ticks\": \"\"}, \"colorscale\": [[0.0, \"#0d0887\"], [0.1111111111111111, \"#46039f\"], [0.2222222222222222, \"#7201a8\"], [0.3333333333333333, \"#9c179e\"], [0.4444444444444444, \"#bd3786\"], [0.5555555555555556, \"#d8576b\"], [0.6666666666666666, \"#ed7953\"], [0.7777777777777778, \"#fb9f3a\"], [0.8888888888888888, \"#fdca26\"], [1.0, \"#f0f921\"]], \"type\": \"heatmap\"}], \"heatmapgl\": [{\"colorbar\": {\"outlinewidth\": 0, \"ticks\": \"\"}, \"colorscale\": [[0.0, \"#0d0887\"], [0.1111111111111111, \"#46039f\"], [0.2222222222222222, \"#7201a8\"], [0.3333333333333333, \"#9c179e\"], [0.4444444444444444, \"#bd3786\"], [0.5555555555555556, \"#d8576b\"], [0.6666666666666666, \"#ed7953\"], [0.7777777777777778, \"#fb9f3a\"], [0.8888888888888888, \"#fdca26\"], [1.0, \"#f0f921\"]], \"type\": \"heatmapgl\"}], \"histogram\": [{\"marker\": {\"colorbar\": {\"outlinewidth\": 0, \"ticks\": \"\"}}, \"type\": \"histogram\"}], \"histogram2d\": [{\"colorbar\": {\"outlinewidth\": 0, \"ticks\": \"\"}, \"colorscale\": [[0.0, \"#0d0887\"], [0.1111111111111111, \"#46039f\"], [0.2222222222222222, \"#7201a8\"], [0.3333333333333333, \"#9c179e\"], [0.4444444444444444, \"#bd3786\"], [0.5555555555555556, \"#d8576b\"], [0.6666666666666666, \"#ed7953\"], [0.7777777777777778, \"#fb9f3a\"], [0.8888888888888888, \"#fdca26\"], [1.0, \"#f0f921\"]], \"type\": \"histogram2d\"}], \"histogram2dcontour\": [{\"colorbar\": {\"outlinewidth\": 0, \"ticks\": \"\"}, \"colorscale\": [[0.0, \"#0d0887\"], [0.1111111111111111, \"#46039f\"], [0.2222222222222222, \"#7201a8\"], [0.3333333333333333, \"#9c179e\"], [0.4444444444444444, \"#bd3786\"], [0.5555555555555556, \"#d8576b\"], [0.6666666666666666, \"#ed7953\"], [0.7777777777777778, \"#fb9f3a\"], [0.8888888888888888, \"#fdca26\"], [1.0, \"#f0f921\"]], \"type\": \"histogram2dcontour\"}], \"mesh3d\": [{\"colorbar\": {\"outlinewidth\": 0, \"ticks\": \"\"}, \"type\": \"mesh3d\"}], \"parcoords\": [{\"line\": {\"colorbar\": {\"outlinewidth\": 0, \"ticks\": \"\"}}, \"type\": \"parcoords\"}], \"pie\": [{\"automargin\": true, \"type\": \"pie\"}], \"scatter\": [{\"marker\": {\"colorbar\": {\"outlinewidth\": 0, \"ticks\": \"\"}}, \"type\": \"scatter\"}], \"scatter3d\": [{\"line\": {\"colorbar\": {\"outlinewidth\": 0, \"ticks\": \"\"}}, \"marker\": {\"colorbar\": {\"outlinewidth\": 0, \"ticks\": \"\"}}, \"type\": \"scatter3d\"}], \"scattercarpet\": [{\"marker\": {\"colorbar\": {\"outlinewidth\": 0, \"ticks\": \"\"}}, \"type\": \"scattercarpet\"}], \"scattergeo\": [{\"marker\": {\"colorbar\": {\"outlinewidth\": 0, \"ticks\": \"\"}}, \"type\": \"scattergeo\"}], \"scattergl\": [{\"marker\": {\"colorbar\": {\"outlinewidth\": 0, \"ticks\": \"\"}}, \"type\": \"scattergl\"}], \"scattermapbox\": [{\"marker\": {\"colorbar\": {\"outlinewidth\": 0, \"ticks\": \"\"}}, \"type\": \"scattermapbox\"}], \"scatterpolar\": [{\"marker\": {\"colorbar\": {\"outlinewidth\": 0, \"ticks\": \"\"}}, \"type\": \"scatterpolar\"}], \"scatterpolargl\": [{\"marker\": {\"colorbar\": {\"outlinewidth\": 0, \"ticks\": \"\"}}, \"type\": \"scatterpolargl\"}], \"scatterternary\": [{\"marker\": {\"colorbar\": {\"outlinewidth\": 0, \"ticks\": \"\"}}, \"type\": \"scatterternary\"}], \"surface\": [{\"colorbar\": {\"outlinewidth\": 0, \"ticks\": \"\"}, \"colorscale\": [[0.0, \"#0d0887\"], [0.1111111111111111, \"#46039f\"], [0.2222222222222222, \"#7201a8\"], [0.3333333333333333, \"#9c179e\"], [0.4444444444444444, \"#bd3786\"], [0.5555555555555556, \"#d8576b\"], [0.6666666666666666, \"#ed7953\"], [0.7777777777777778, \"#fb9f3a\"], [0.8888888888888888, \"#fdca26\"], [1.0, \"#f0f921\"]], \"type\": \"surface\"}], \"table\": [{\"cells\": {\"fill\": {\"color\": \"#EBF0F8\"}, \"line\": {\"color\": \"white\"}}, \"header\": {\"fill\": {\"color\": \"#C8D4E3\"}, \"line\": {\"color\": \"white\"}}, \"type\": \"table\"}]}, \"layout\": {\"annotationdefaults\": {\"arrowcolor\": \"#2a3f5f\", \"arrowhead\": 0, \"arrowwidth\": 1}, \"coloraxis\": {\"colorbar\": {\"outlinewidth\": 0, \"ticks\": \"\"}}, \"colorscale\": {\"diverging\": [[0, \"#8e0152\"], [0.1, \"#c51b7d\"], [0.2, \"#de77ae\"], [0.3, \"#f1b6da\"], [0.4, \"#fde0ef\"], [0.5, \"#f7f7f7\"], [0.6, \"#e6f5d0\"], [0.7, \"#b8e186\"], [0.8, \"#7fbc41\"], [0.9, \"#4d9221\"], [1, \"#276419\"]], \"sequential\": [[0.0, \"#0d0887\"], [0.1111111111111111, \"#46039f\"], [0.2222222222222222, \"#7201a8\"], [0.3333333333333333, \"#9c179e\"], [0.4444444444444444, \"#bd3786\"], [0.5555555555555556, \"#d8576b\"], [0.6666666666666666, \"#ed7953\"], [0.7777777777777778, \"#fb9f3a\"], [0.8888888888888888, \"#fdca26\"], [1.0, \"#f0f921\"]], \"sequentialminus\": [[0.0, \"#0d0887\"], [0.1111111111111111, \"#46039f\"], [0.2222222222222222, \"#7201a8\"], [0.3333333333333333, \"#9c179e\"], [0.4444444444444444, \"#bd3786\"], [0.5555555555555556, \"#d8576b\"], [0.6666666666666666, \"#ed7953\"], [0.7777777777777778, \"#fb9f3a\"], [0.8888888888888888, \"#fdca26\"], [1.0, \"#f0f921\"]]}, \"colorway\": [\"#636efa\", \"#EF553B\", \"#00cc96\", \"#ab63fa\", \"#FFA15A\", \"#19d3f3\", \"#FF6692\", \"#B6E880\", \"#FF97FF\", \"#FECB52\"], \"font\": {\"color\": \"#2a3f5f\"}, \"geo\": {\"bgcolor\": \"white\", \"lakecolor\": \"white\", \"landcolor\": \"#E5ECF6\", \"showlakes\": true, \"showland\": true, \"subunitcolor\": \"white\"}, \"hoverlabel\": {\"align\": \"left\"}, \"hovermode\": \"closest\", \"mapbox\": {\"style\": \"light\"}, \"paper_bgcolor\": \"white\", \"plot_bgcolor\": \"#E5ECF6\", \"polar\": {\"angularaxis\": {\"gridcolor\": \"white\", \"linecolor\": \"white\", \"ticks\": \"\"}, \"bgcolor\": \"#E5ECF6\", \"radialaxis\": {\"gridcolor\": \"white\", \"linecolor\": \"white\", \"ticks\": \"\"}}, \"scene\": {\"xaxis\": {\"backgroundcolor\": \"#E5ECF6\", \"gridcolor\": \"white\", \"gridwidth\": 2, \"linecolor\": \"white\", \"showbackground\": true, \"ticks\": \"\", \"zerolinecolor\": \"white\"}, \"yaxis\": {\"backgroundcolor\": \"#E5ECF6\", \"gridcolor\": \"white\", \"gridwidth\": 2, \"linecolor\": \"white\", \"showbackground\": true, \"ticks\": \"\", \"zerolinecolor\": \"white\"}, \"zaxis\": {\"backgroundcolor\": \"#E5ECF6\", \"gridcolor\": \"white\", \"gridwidth\": 2, \"linecolor\": \"white\", \"showbackground\": true, \"ticks\": \"\", \"zerolinecolor\": \"white\"}}, \"shapedefaults\": {\"line\": {\"color\": \"#2a3f5f\"}}, \"ternary\": {\"aaxis\": {\"gridcolor\": \"white\", \"linecolor\": \"white\", \"ticks\": \"\"}, \"baxis\": {\"gridcolor\": \"white\", \"linecolor\": \"white\", \"ticks\": \"\"}, \"bgcolor\": \"#E5ECF6\", \"caxis\": {\"gridcolor\": \"white\", \"linecolor\": \"white\", \"ticks\": \"\"}}, \"title\": {\"x\": 0.05}, \"xaxis\": {\"automargin\": true, \"gridcolor\": \"white\", \"linecolor\": \"white\", \"ticks\": \"\", \"title\": {\"standoff\": 15}, \"zerolinecolor\": \"white\", \"zerolinewidth\": 2}, \"yaxis\": {\"automargin\": true, \"gridcolor\": \"white\", \"linecolor\": \"white\", \"ticks\": \"\", \"title\": {\"standoff\": 15}, \"zerolinecolor\": \"white\", \"zerolinewidth\": 2}}}, \"xaxis\": {\"anchor\": \"y\", \"domain\": [0.0, 1.0], \"title\": {\"text\": \"alcaldia_hechos\"}}, \"yaxis\": {\"anchor\": \"x\", \"domain\": [0.0, 1.0], \"title\": {\"text\": \"sum of delito\"}}},                        {\"responsive\": true}                    ).then(function(){\n",
       "                            \n",
       "var gd = document.getElementById('95fd57c4-71f4-4dbf-a9c8-fa06616b5807');\n",
       "var x = new MutationObserver(function (mutations, observer) {{\n",
       "        var display = window.getComputedStyle(gd).display;\n",
       "        if (!display || display === 'none') {{\n",
       "            console.log([gd, 'removed!']);\n",
       "            Plotly.purge(gd);\n",
       "            observer.disconnect();\n",
       "        }}\n",
       "}});\n",
       "\n",
       "// Listen for the removal of the full notebook cells\n",
       "var notebookContainer = gd.closest('#notebook-container');\n",
       "if (notebookContainer) {{\n",
       "    x.observe(notebookContainer, {childList: true});\n",
       "}}\n",
       "\n",
       "// Listen for the clearing of the current output cell\n",
       "var outputEl = gd.closest('.output');\n",
       "if (outputEl) {{\n",
       "    x.observe(outputEl, {childList: true});\n",
       "}}\n",
       "\n",
       "                        })                };                });            </script>        </div>"
      ]
     },
     "metadata": {},
     "output_type": "display_data"
    }
   ],
   "source": [
    "fig = px.histogram(freq_crime_cdmx, x = 'alcaldia_hechos', y = 'delito')\n",
    "fig.show()"
   ]
  },
  {
   "cell_type": "markdown",
   "id": "8e9c3649",
   "metadata": {},
   "source": [
    "As we can see, Cuaúhtemoc and Iztapalapa are the mayors with the highest crime incidence, meanwhile Cuajimalpa de Morelos and Milpa Alta have the lowest incidence."
   ]
  },
  {
   "cell_type": "code",
   "execution_count": null,
   "id": "d9d342cf",
   "metadata": {},
   "outputs": [],
   "source": []
  }
 ],
 "metadata": {
  "kernelspec": {
   "display_name": "Python 3 (ipykernel)",
   "language": "python",
   "name": "python3"
  },
  "language_info": {
   "codemirror_mode": {
    "name": "ipython",
    "version": 3
   },
   "file_extension": ".py",
   "mimetype": "text/x-python",
   "name": "python",
   "nbconvert_exporter": "python",
   "pygments_lexer": "ipython3",
   "version": "3.9.12"
  }
 },
 "nbformat": 4,
 "nbformat_minor": 5
}
