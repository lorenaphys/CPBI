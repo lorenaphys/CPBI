{
 "cells": [
  {
   "cell_type": "markdown",
   "id": "fa045bec",
   "metadata": {},
   "source": [
    "# Tech interview - CPBI"
   ]
  },
  {
   "cell_type": "markdown",
   "id": "812cea0b",
   "metadata": {},
   "source": [
    "I decided to work with the [investigation folders of **FGJ**](https://datos.cdmx.gob.mx/dataset/carpetas-de-investigacion-fgj-de-la-ciudad-de-mexico/resource/48fcb848-220c-4af0-839b-4fd8ac812c0f \"database link\") of Mexico. I chose this database because I find very interesting analize crime incidence in the country, specially in Mexico city, figuring out what are the zones with the highest incidence of crime."
   ]
  },
  {
   "cell_type": "markdown",
   "id": "21a13643",
   "metadata": {},
   "source": [
    "## Description of the database "
   ]
  },
  {
   "cell_type": "markdown",
   "id": "f541cec2",
   "metadata": {},
   "source": [
    "In this database there are the records of crime reported in the country, we can find the date, location and type of crime at every record."
   ]
  },
  {
   "cell_type": "markdown",
   "id": "ef5f244c",
   "metadata": {},
   "source": [
    "## Plotting "
   ]
  },
  {
   "cell_type": "code",
   "execution_count": 2,
   "id": "ee475b56",
   "metadata": {},
   "outputs": [],
   "source": [
    "import pandas as pd\n",
    "import plotly.express as px"
   ]
  },
  {
   "cell_type": "code",
   "execution_count": null,
   "id": "dd0d5884",
   "metadata": {},
   "outputs": [],
   "source": []
  }
 ],
 "metadata": {
  "kernelspec": {
   "display_name": "Python 3 (ipykernel)",
   "language": "python",
   "name": "python3"
  },
  "language_info": {
   "codemirror_mode": {
    "name": "ipython",
    "version": 3
   },
   "file_extension": ".py",
   "mimetype": "text/x-python",
   "name": "python",
   "nbconvert_exporter": "python",
   "pygments_lexer": "ipython3",
   "version": "3.9.12"
  }
 },
 "nbformat": 4,
 "nbformat_minor": 5
}
