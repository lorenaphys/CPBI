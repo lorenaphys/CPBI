{
 "cells": [
  {
   "cell_type": "markdown",
   "id": "a172aaee",
   "metadata": {},
   "source": [
    "# Tech interview - CPBI"
   ]
  },
  {
   "cell_type": "markdown",
   "id": "2d79bad8",
   "metadata": {},
   "source": [
    "I decided to work with the [investigation folders of **FGJ**](https://datos.cdmx.gob.mx/dataset/carpetas-de-investigacion-fgj-de-la-ciudad-de-mexico/resource/48fcb848-220c-4af0-839b-4fd8ac812c0f \"database link\") of Mexico. I choose this database because I find very interesting to analize crime incidence in the country, specially in Mexico city, and figuring out what are the zones with the highest incidence of crime."
   ]
  },
  {
   "cell_type": "markdown",
   "id": "c2c0b717",
   "metadata": {},
   "source": [
    "## Description of the database "
   ]
  },
  {
   "cell_type": "markdown",
   "id": "585acf75",
   "metadata": {},
   "source": [
    "In this database there are the records of crime reported in the country, we can find the date, location and type of crime at every record."
   ]
  },
  {
   "cell_type": "markdown",
   "id": "83775898",
   "metadata": {},
   "source": [
    "## Plotting "
   ]
  },
  {
   "cell_type": "code",
   "execution_count": 1,
   "id": "1fd3d633",
   "metadata": {},
   "outputs": [],
   "source": [
    "import pandas as pd\n",
    "import matplotlib.pyplot as plt\n",
    "#import plotly.express as px"
   ]
  },
  {
   "cell_type": "markdown",
   "id": "2f8ea574",
   "metadata": {},
   "source": [
    "I'm going to set the column **fecha_hechos** as the index."
   ]
  },
  {
   "cell_type": "code",
   "execution_count": 2,
   "id": "7b277cd3",
   "metadata": {},
   "outputs": [],
   "source": [
    "crime_records = pd.read_csv('../databases/carpetas_completa_abril_2022.csv', dtype='unicode', index_col = 'fecha_hechos')"
   ]
  },
  {
   "cell_type": "markdown",
   "id": "c61de957",
   "metadata": {},
   "source": [
    "Let's see what the first 5 rows to understand what we have:"
   ]
  },
  {
   "cell_type": "code",
   "execution_count": 79,
   "id": "b5a46039",
   "metadata": {},
   "outputs": [
    {
     "data": {
      "text/html": [
       "<div>\n",
       "<style scoped>\n",
       "    .dataframe tbody tr th:only-of-type {\n",
       "        vertical-align: middle;\n",
       "    }\n",
       "\n",
       "    .dataframe tbody tr th {\n",
       "        vertical-align: top;\n",
       "    }\n",
       "\n",
       "    .dataframe thead th {\n",
       "        text-align: right;\n",
       "    }\n",
       "</style>\n",
       "<table border=\"1\" class=\"dataframe\">\n",
       "  <thead>\n",
       "    <tr style=\"text-align: right;\">\n",
       "      <th></th>\n",
       "      <th>ao_hechos</th>\n",
       "      <th>mes_hechos</th>\n",
       "      <th>ao_inicio</th>\n",
       "      <th>mes_inicio</th>\n",
       "      <th>fecha_inicio</th>\n",
       "      <th>delito</th>\n",
       "      <th>fiscalia</th>\n",
       "      <th>agencia</th>\n",
       "      <th>unidad_investigacion</th>\n",
       "      <th>categoria_delito</th>\n",
       "      <th>calle_hechos</th>\n",
       "      <th>calle_hechos2</th>\n",
       "      <th>colonia_hechos</th>\n",
       "      <th>alcaldia_hechos</th>\n",
       "      <th>competencia</th>\n",
       "      <th>longitud</th>\n",
       "      <th>latitud</th>\n",
       "      <th>tempo</th>\n",
       "    </tr>\n",
       "    <tr>\n",
       "      <th>fecha_hechos</th>\n",
       "      <th></th>\n",
       "      <th></th>\n",
       "      <th></th>\n",
       "      <th></th>\n",
       "      <th></th>\n",
       "      <th></th>\n",
       "      <th></th>\n",
       "      <th></th>\n",
       "      <th></th>\n",
       "      <th></th>\n",
       "      <th></th>\n",
       "      <th></th>\n",
       "      <th></th>\n",
       "      <th></th>\n",
       "      <th></th>\n",
       "      <th></th>\n",
       "      <th></th>\n",
       "      <th></th>\n",
       "    </tr>\n",
       "  </thead>\n",
       "  <tbody>\n",
       "    <tr>\n",
       "      <th>2016-01-31 22:16:00</th>\n",
       "      <td>2016</td>\n",
       "      <td>Enero</td>\n",
       "      <td>2016</td>\n",
       "      <td>Febrero</td>\n",
       "      <td>2016-02-01 00:25:44</td>\n",
       "      <td>DAÑO EN PROPIEDAD AJENA INTENCIONAL</td>\n",
       "      <td>INVESTIGACIÓN EN BENITO JUÁREZ</td>\n",
       "      <td>BJ-2</td>\n",
       "      <td>UI-3CD</td>\n",
       "      <td>DELITO DE BAJO IMPACTO</td>\n",
       "      <td>CALZ. DE TLALPAN</td>\n",
       "      <td>LAGO PTE.</td>\n",
       "      <td>AMÉRICAS UNIDAS</td>\n",
       "      <td>BENITO JUAREZ</td>\n",
       "      <td>NaN</td>\n",
       "      <td>-99.1402149999999</td>\n",
       "      <td>19.3803149998337</td>\n",
       "      <td>NaN</td>\n",
       "    </tr>\n",
       "    <tr>\n",
       "      <th>2016-01-31 20:50:00</th>\n",
       "      <td>2016</td>\n",
       "      <td>Enero</td>\n",
       "      <td>2016</td>\n",
       "      <td>Febrero</td>\n",
       "      <td>2016-02-01 00:52:37</td>\n",
       "      <td>ROBO DE VEHICULO DE SERVICIO PARTICULAR CON VI...</td>\n",
       "      <td>INVESTIGACIÓN PARA LA ATENCIÓN DEL DELITO DE R...</td>\n",
       "      <td>ORIENTEII</td>\n",
       "      <td>UI-3CD</td>\n",
       "      <td>ROBO DE VEHÍCULO CON Y SIN VIOLENCIA</td>\n",
       "      <td>SUR 25 A</td>\n",
       "      <td>GRANJEROS</td>\n",
       "      <td>LOS CIPRESES</td>\n",
       "      <td>IZTAPALAPA</td>\n",
       "      <td>NaN</td>\n",
       "      <td>-99.1084029999999</td>\n",
       "      <td>19.3528589998337</td>\n",
       "      <td>NaN</td>\n",
       "    </tr>\n",
       "    <tr>\n",
       "      <th>2016-02-01 00:30:00</th>\n",
       "      <td>2016</td>\n",
       "      <td>Febrero</td>\n",
       "      <td>2016</td>\n",
       "      <td>Febrero</td>\n",
       "      <td>2016-02-01 01:33:26</td>\n",
       "      <td>NARCOMENUDEO POSESION SIMPLE</td>\n",
       "      <td>INVESTIGACIÓN PARA LA ATENCIÓN DE NIÑOS, NIÑAS...</td>\n",
       "      <td>57</td>\n",
       "      <td>UI-3CD</td>\n",
       "      <td>DELITO DE BAJO IMPACTO</td>\n",
       "      <td>BATALLONES ROJOS</td>\n",
       "      <td>NaN</td>\n",
       "      <td>UNIDAD VICENTE GUERRERO</td>\n",
       "      <td>IZTAPALAPA</td>\n",
       "      <td>NaN</td>\n",
       "      <td>-99.061321</td>\n",
       "      <td>19.3564509998336</td>\n",
       "      <td>NaN</td>\n",
       "    </tr>\n",
       "    <tr>\n",
       "      <th>2016-01-31 22:00:00</th>\n",
       "      <td>2016</td>\n",
       "      <td>Enero</td>\n",
       "      <td>2016</td>\n",
       "      <td>Febrero</td>\n",
       "      <td>2016-02-01 02:09:11</td>\n",
       "      <td>ROBO A TRANSEUNTE EN VIA PUBLICA CON VIOLENCIA</td>\n",
       "      <td>INVESTIGACIÓN EN IZTAPALAPA</td>\n",
       "      <td>IZP-6</td>\n",
       "      <td>UI-3CD</td>\n",
       "      <td>ROBO A TRANSEUNTE EN VÍA PÚBLICA CON Y SIN VIO...</td>\n",
       "      <td>GERANIO</td>\n",
       "      <td>GAVILLEROS</td>\n",
       "      <td>EMILIANO ZAPATA</td>\n",
       "      <td>IZTAPALAPA</td>\n",
       "      <td>NaN</td>\n",
       "      <td>-98.9763790000001</td>\n",
       "      <td>19.3316329998333</td>\n",
       "      <td>NaN</td>\n",
       "    </tr>\n",
       "    <tr>\n",
       "      <th>2015-12-25 12:00:00</th>\n",
       "      <td>2015</td>\n",
       "      <td>Diciembre</td>\n",
       "      <td>2016</td>\n",
       "      <td>Febrero</td>\n",
       "      <td>2016-02-01 02:16:49</td>\n",
       "      <td>DENUNCIA DE HECHOS</td>\n",
       "      <td>INVESTIGACIÓN EN BENITO JUÁREZ</td>\n",
       "      <td>BJ-1</td>\n",
       "      <td>UI-3SD</td>\n",
       "      <td>HECHO NO DELICTIVO</td>\n",
       "      <td>SAN FRANCISCO</td>\n",
       "      <td>AVENIDA COLONIA DEL VALLE</td>\n",
       "      <td>DEL VALLE CENTRO</td>\n",
       "      <td>BENITO JUAREZ</td>\n",
       "      <td>NaN</td>\n",
       "      <td>-99.1721889999999</td>\n",
       "      <td>19.387113999834</td>\n",
       "      <td>NaN</td>\n",
       "    </tr>\n",
       "  </tbody>\n",
       "</table>\n",
       "</div>"
      ],
      "text/plain": [
       "                    ao_hechos mes_hechos ao_inicio mes_inicio  \\\n",
       "fecha_hechos                                                    \n",
       "2016-01-31 22:16:00      2016      Enero      2016    Febrero   \n",
       "2016-01-31 20:50:00      2016      Enero      2016    Febrero   \n",
       "2016-02-01 00:30:00      2016    Febrero      2016    Febrero   \n",
       "2016-01-31 22:00:00      2016      Enero      2016    Febrero   \n",
       "2015-12-25 12:00:00      2015  Diciembre      2016    Febrero   \n",
       "\n",
       "                           fecha_inicio  \\\n",
       "fecha_hechos                              \n",
       "2016-01-31 22:16:00 2016-02-01 00:25:44   \n",
       "2016-01-31 20:50:00 2016-02-01 00:52:37   \n",
       "2016-02-01 00:30:00 2016-02-01 01:33:26   \n",
       "2016-01-31 22:00:00 2016-02-01 02:09:11   \n",
       "2015-12-25 12:00:00 2016-02-01 02:16:49   \n",
       "\n",
       "                                                                delito  \\\n",
       "fecha_hechos                                                             \n",
       "2016-01-31 22:16:00                DAÑO EN PROPIEDAD AJENA INTENCIONAL   \n",
       "2016-01-31 20:50:00  ROBO DE VEHICULO DE SERVICIO PARTICULAR CON VI...   \n",
       "2016-02-01 00:30:00                       NARCOMENUDEO POSESION SIMPLE   \n",
       "2016-01-31 22:00:00     ROBO A TRANSEUNTE EN VIA PUBLICA CON VIOLENCIA   \n",
       "2015-12-25 12:00:00                                 DENUNCIA DE HECHOS   \n",
       "\n",
       "                                                              fiscalia  \\\n",
       "fecha_hechos                                                             \n",
       "2016-01-31 22:16:00                     INVESTIGACIÓN EN BENITO JUÁREZ   \n",
       "2016-01-31 20:50:00  INVESTIGACIÓN PARA LA ATENCIÓN DEL DELITO DE R...   \n",
       "2016-02-01 00:30:00  INVESTIGACIÓN PARA LA ATENCIÓN DE NIÑOS, NIÑAS...   \n",
       "2016-01-31 22:00:00                        INVESTIGACIÓN EN IZTAPALAPA   \n",
       "2015-12-25 12:00:00                     INVESTIGACIÓN EN BENITO JUÁREZ   \n",
       "\n",
       "                       agencia unidad_investigacion  \\\n",
       "fecha_hechos                                          \n",
       "2016-01-31 22:16:00       BJ-2               UI-3CD   \n",
       "2016-01-31 20:50:00  ORIENTEII               UI-3CD   \n",
       "2016-02-01 00:30:00         57               UI-3CD   \n",
       "2016-01-31 22:00:00      IZP-6               UI-3CD   \n",
       "2015-12-25 12:00:00       BJ-1               UI-3SD   \n",
       "\n",
       "                                                      categoria_delito  \\\n",
       "fecha_hechos                                                             \n",
       "2016-01-31 22:16:00                             DELITO DE BAJO IMPACTO   \n",
       "2016-01-31 20:50:00               ROBO DE VEHÍCULO CON Y SIN VIOLENCIA   \n",
       "2016-02-01 00:30:00                             DELITO DE BAJO IMPACTO   \n",
       "2016-01-31 22:00:00  ROBO A TRANSEUNTE EN VÍA PÚBLICA CON Y SIN VIO...   \n",
       "2015-12-25 12:00:00                                 HECHO NO DELICTIVO   \n",
       "\n",
       "                         calle_hechos              calle_hechos2  \\\n",
       "fecha_hechos                                                       \n",
       "2016-01-31 22:16:00  CALZ. DE TLALPAN                  LAGO PTE.   \n",
       "2016-01-31 20:50:00          SUR 25 A                  GRANJEROS   \n",
       "2016-02-01 00:30:00  BATALLONES ROJOS                        NaN   \n",
       "2016-01-31 22:00:00           GERANIO                 GAVILLEROS   \n",
       "2015-12-25 12:00:00     SAN FRANCISCO  AVENIDA COLONIA DEL VALLE   \n",
       "\n",
       "                              colonia_hechos alcaldia_hechos competencia  \\\n",
       "fecha_hechos                                                               \n",
       "2016-01-31 22:16:00          AMÉRICAS UNIDAS   BENITO JUAREZ         NaN   \n",
       "2016-01-31 20:50:00             LOS CIPRESES      IZTAPALAPA         NaN   \n",
       "2016-02-01 00:30:00  UNIDAD VICENTE GUERRERO      IZTAPALAPA         NaN   \n",
       "2016-01-31 22:00:00          EMILIANO ZAPATA      IZTAPALAPA         NaN   \n",
       "2015-12-25 12:00:00         DEL VALLE CENTRO   BENITO JUAREZ         NaN   \n",
       "\n",
       "                              longitud           latitud tempo  \n",
       "fecha_hechos                                                    \n",
       "2016-01-31 22:16:00  -99.1402149999999  19.3803149998337   NaN  \n",
       "2016-01-31 20:50:00  -99.1084029999999  19.3528589998337   NaN  \n",
       "2016-02-01 00:30:00         -99.061321  19.3564509998336   NaN  \n",
       "2016-01-31 22:00:00  -98.9763790000001  19.3316329998333   NaN  \n",
       "2015-12-25 12:00:00  -99.1721889999999   19.387113999834   NaN  "
      ]
     },
     "execution_count": 79,
     "metadata": {},
     "output_type": "execute_result"
    }
   ],
   "source": [
    "crime_records.head()"
   ]
  },
  {
   "cell_type": "markdown",
   "id": "439e7596",
   "metadata": {},
   "source": [
    "We have the date of the record, the date of the crime, the crime, the fiscaly were it was recorded, the crime category and adress of the crime. "
   ]
  },
  {
   "cell_type": "markdown",
   "id": "17b43b52",
   "metadata": {},
   "source": [
    "We can analize what's going on with this records focusing on the frequency of the crimes and where they ocurr. "
   ]
  },
  {
   "cell_type": "markdown",
   "id": "c057766f",
   "metadata": {},
   "source": [
    "First of all, I'm going to set the columns **fecha_hechos** and **fecha_inicio** as datetime objects."
   ]
  },
  {
   "cell_type": "code",
   "execution_count": 3,
   "id": "4e96606b",
   "metadata": {},
   "outputs": [],
   "source": [
    "crime_records.index = pd.to_datetime(crime_records.index, format = \"%Y-%m-%d %H:%M:%S\", errors = 'coerce')"
   ]
  },
  {
   "cell_type": "code",
   "execution_count": 4,
   "id": "eada3350",
   "metadata": {},
   "outputs": [],
   "source": [
    "crime_records['fecha_inicio'] = pd.to_datetime(crime_records['fecha_inicio'], format = \"%Y-%m-%d %H:%M:%S\", errors = 'coerce')"
   ]
  },
  {
   "cell_type": "markdown",
   "id": "8e6a2320",
   "metadata": {},
   "source": [
    "I'm going to focus just on the records in Mexico city, so, I will filter the database:"
   ]
  },
  {
   "cell_type": "code",
   "execution_count": 5,
   "id": "3bae0fc8",
   "metadata": {},
   "outputs": [],
   "source": [
    "alcaldias_cdmx = ['AZCAPOTZALCO', 'ALVARO OBREGON', 'BENITO JUAREZ', 'COYOACAN', 'CUAJIMALPA DE MORELOS','CUAUHTEMOC','GUSTAVO A MADERO', 'IZTACALCO', 'IZTAPALAPA', 'LA MAGDALENA CONTRERAS','MIGUEL HIDALGO','MILPA ALTA', 'TLALPAN','TLAHUAC','VENUSTIANO CARRANZA','XOCHIMILCO']"
   ]
  },
  {
   "cell_type": "code",
   "execution_count": 6,
   "id": "183df247",
   "metadata": {},
   "outputs": [],
   "source": [
    "crime_cdmx = crime_records[[locacion in alcaldias_cdmx for locacion in crime_records['alcaldia_hechos']]]"
   ]
  },
  {
   "cell_type": "markdown",
   "id": "8652bb74",
   "metadata": {},
   "source": [
    "Now, we can see what is the crime incidence by mayors:"
   ]
  },
  {
   "cell_type": "code",
   "execution_count": 7,
   "id": "462d8ba5",
   "metadata": {},
   "outputs": [],
   "source": [
    "freq_crime_cdmx = crime_cdmx.groupby('alcaldia_hechos', as_index = False, group_keys = True)['delito'].count()"
   ]
  },
  {
   "cell_type": "markdown",
   "id": "f9251a8e",
   "metadata": {},
   "source": [
    "Now, I sort the values in descending order."
   ]
  },
  {
   "cell_type": "code",
   "execution_count": 8,
   "id": "14f34c18",
   "metadata": {},
   "outputs": [],
   "source": [
    "freq_crime_cdmx = freq_crime_cdmx.sort_values(by=['delito'], ascending = False)"
   ]
  },
  {
   "cell_type": "markdown",
   "id": "f70312fd",
   "metadata": {},
   "source": [
    "The bar plot of this dataframe is the following:"
   ]
  },
  {
   "cell_type": "code",
   "execution_count": 153,
   "id": "aaf7b2de",
   "metadata": {},
   "outputs": [
    {
     "data": {
      "image/png": "[encoded data removed]",
      "text/plain": [
       "<Figure size 432x288 with 1 Axes>"
      ]
     },
     "metadata": {
      "needs_background": "light"
     },
     "output_type": "display_data"
    }
   ],
   "source": [
    "plt.bar(freq_crime_cdmx['alcaldia_hechos'], freq_crime_cdmx['delito'])\n",
    "plt.xticks(rotation = 90)\n",
    "plt.xlabel('Alcaldia')\n",
    "plt.ylabel('Sum of crime')\n",
    "plt.show()"
   ]
  },
  {
   "cell_type": "code",
   "execution_count": 1,
   "id": "a30ba6c6",
   "metadata": {},
   "outputs": [],
   "source": [
    "#fig = px.histogram(freq_crime_cdmx, x = 'alcaldia_hechos', y = 'delito')\n",
    "#fig.show()"
   ]
  },
  {
   "cell_type": "markdown",
   "id": "dc87ada1",
   "metadata": {},
   "source": [
    "As we can see, Cuaúhtemoc and Iztapalapa are the mayors with the highest crime incidence, meanwhile Cuajimalpa de Morelos and Milpa Alta have the lowest incidence."
   ]
  },
  {
   "cell_type": "markdown",
   "id": "02662ada",
   "metadata": {},
   "source": [
    "Also, we can see with a pie chart what are the most frequent crimes by region. Because there are so many types of crime, I will show only the top 5 crimes by town hall."
   ]
  },
  {
   "cell_type": "markdown",
   "id": "7bdc07c5",
   "metadata": {},
   "source": [
    "First I'm going to make a dataframe with the frecuency of each crime according to each municipality."
   ]
  },
  {
   "cell_type": "code",
   "execution_count": 9,
   "id": "0acc8913",
   "metadata": {},
   "outputs": [],
   "source": [
    "crime_region_cdmx = crime_cdmx.groupby(['alcaldia_hechos','delito'], as_index = False, group_keys = True).size()"
   ]
  },
  {
   "cell_type": "markdown",
   "id": "b5a4b3bc",
   "metadata": {},
   "source": [
    "Then, I create a function which take the 5 most frequent crimes per municipality."
   ]
  },
  {
   "cell_type": "code",
   "execution_count": 11,
   "id": "36f16d13",
   "metadata": {},
   "outputs": [],
   "source": [
    "def top_5_crime(alcaldia):\n",
    "    return crime_region_cdmx[crime_region_cdmx['alcaldia_hechos']\n",
    "                                == alcaldia].sort_values('size', ascending = False).head()"
   ]
  },
  {
   "cell_type": "markdown",
   "id": "32f83b4e",
   "metadata": {},
   "source": [
    "As we see before, Cuaúhtemoc and Iztapalapa are the two municipalities with the highest number of records, meanwhile Milpa Alta and Cuajimalpa de Morelos are the municipalities with the lowest numbers. Let's see their pie charts with the top 5 crimes:"
   ]
  },
  {
   "cell_type": "code",
   "execution_count": 12,
   "id": "37cf245c",
   "metadata": {},
   "outputs": [],
   "source": [
    "top_crime_cuauhtemoc = top_5_crime('CUAUHTEMOC')\n",
    "top_crime_iztapalapa = top_5_crime('IZTAPALAPA')\n",
    "top_crime_cuajimalpa = top_5_crime('CUAJIMALPA DE MORELOS')\n",
    "top_crime_milpa_alta = top_5_crime('MILPA ALTA')"
   ]
  },
  {
   "cell_type": "markdown",
   "id": "f0386395",
   "metadata": {},
   "source": [
    "### Cuaúhtemoc "
   ]
  },
  {
   "cell_type": "code",
   "execution_count": 24,
   "id": "bd55c33e",
   "metadata": {
    "scrolled": true
   },
   "outputs": [
    {
     "data": {
      "image/png": "[encoded data removed]",
      "text/plain": [
       "<Figure size 432x288 with 1 Axes>"
      ]
     },
     "metadata": {},
     "output_type": "display_data"
    }
   ],
   "source": [
    "plt.pie(top_crime_cuauhtemoc['size'], labels = top_crime_cuauhtemoc['delito'])\n",
    "plt.show()"
   ]
  },
  {
   "cell_type": "markdown",
   "id": "f3920ecc",
   "metadata": {},
   "source": [
    "### Iztapalapa"
   ]
  },
  {
   "cell_type": "code",
   "execution_count": 23,
   "id": "af522704",
   "metadata": {},
   "outputs": [
    {
     "data": {
      "image/png": "[encoded data removed]",
      "text/plain": [
       "<Figure size 432x288 with 1 Axes>"
      ]
     },
     "metadata": {},
     "output_type": "display_data"
    }
   ],
   "source": [
    "plt.pie(top_crime_iztapalapa['size'], labels = top_crime_iztapalapa['delito'])\n",
    "plt.show()"
   ]
  },
  {
   "cell_type": "markdown",
   "id": "5ebd2ff1",
   "metadata": {},
   "source": [
    "### Cuajimalpa de Morelos "
   ]
  },
  {
   "cell_type": "code",
   "execution_count": 25,
   "id": "a2f19594",
   "metadata": {},
   "outputs": [
    {
     "data": {
      "image/png": "[encoded data removed]",
      "text/plain": [
       "<Figure size 432x288 with 1 Axes>"
      ]
     },
     "metadata": {},
     "output_type": "display_data"
    }
   ],
   "source": [
    "plt.pie(top_crime_cuajimalpa['size'], labels = top_crime_cuajimalpa['delito'])\n",
    "plt.show()"
   ]
  },
  {
   "cell_type": "markdown",
   "id": "713506c8",
   "metadata": {},
   "source": [
    "### Milpa Alta "
   ]
  },
  {
   "cell_type": "code",
   "execution_count": 26,
   "id": "1eedc517",
   "metadata": {},
   "outputs": [
    {
     "data": {
      "image/png": "[encoded data removed]",
      "text/plain": [
       "<Figure size 432x288 with 1 Axes>"
      ]
     },
     "metadata": {},
     "output_type": "display_data"
    }
   ],
   "source": [
    "plt.pie(top_crime_milpa_alta['size'], labels = top_crime_milpa_alta['delito'])\n",
    "plt.show()"
   ]
  },
  {
   "cell_type": "markdown",
   "id": "d35df482",
   "metadata": {},
   "source": [
    "As we can see from these pie charts, practically these 4 municipalities have the same top 5 crimes, justo with differente percentage."
   ]
  },
  {
   "cell_type": "code",
   "execution_count": 21,
   "id": "ea668ed5",
   "metadata": {},
   "outputs": [],
   "source": [
    "#fig = px.sunburst(crime_cdmx, \n",
    "                  #path=['alcaldia_hechos', 'delito']\n",
    "                 #)\n",
    "#fig.show()"
   ]
  },
  {
   "cell_type": "markdown",
   "id": "a3b4e87b",
   "metadata": {},
   "source": [
    "For example, in Cuaúhtemoc, fraud, objects theft and domestic violence are the most frequent crimes recorded. Meanwhile in Milpa Alta, domestic violence, threats and house robbery without violence are the most frequent ones."
   ]
  },
  {
   "cell_type": "markdown",
   "id": "3a9e9ef6",
   "metadata": {},
   "source": [
    "## Visualization about the information"
   ]
  },
  {
   "cell_type": "markdown",
   "id": "07da9d51",
   "metadata": {},
   "source": [
    "There is a lot to analize with this database, for example, we can check if the kind of crimes recorded is different month by month or quarter by quarter, and so on. Also, we can map the information to have a better idea of the crime incidence by zone."
   ]
  },
  {
   "cell_type": "markdown",
   "id": "95673cc2",
   "metadata": {},
   "source": [
    "But according what I present, the most interesting part is we can see what are the mayors with the highest crime incidence (Cuaúhtemoc and Iztapalapa) and what are the most recorded crimes, these results can lead us to the conclusion that population is a main factor for these incidences, because Cuaúhtemoc and Iztapalapa are the most populated mayors."
   ]
  },
  {
   "cell_type": "markdown",
   "id": "03fb5a36",
   "metadata": {},
   "source": [
    "## Machine learning algorithms"
   ]
  },
  {
   "cell_type": "markdown",
   "id": "77e62a73",
   "metadata": {},
   "source": [
    "In this database I can use linear regression to figure out if a certain crime at a certain mayor or at certain time scale is increasing or decreasing."
   ]
  },
  {
   "cell_type": "markdown",
   "id": "976d8869",
   "metadata": {},
   "source": [
    "I can also use PCA over the mayors to reduce dimensionality and see how they cluster."
   ]
  },
  {
   "cell_type": "markdown",
   "id": "cbb9768c",
   "metadata": {},
   "source": [
    "Other clustering algorithm I can use is k means which, setting the number of clusters, _inertia_ can be computed to find the best number of clusters, of course, being carefult to not have many clusters."
   ]
  },
  {
   "cell_type": "markdown",
   "id": "594d04fb",
   "metadata": {},
   "source": [
    "## Selecting one of the algorithms"
   ]
  },
  {
   "cell_type": "markdown",
   "id": "d52d7b21",
   "metadata": {},
   "source": [
    "I will use k means. If I want to know how the municipalities are grouping according to crime incidence, and according to type of crime, I would take **alcaldia_hechos** and **delito** from the database."
   ]
  },
  {
   "cell_type": "markdown",
   "id": "6cd5b07e",
   "metadata": {},
   "source": [
    "## Life cycle of the model"
   ]
  },
  {
   "cell_type": "markdown",
   "id": "4c62c1a5",
   "metadata": {},
   "source": [
    "As at this point I collected and prepare the data, the following steps in the life cycle of the model are the following:"
   ]
  },
  {
   "cell_type": "markdown",
   "id": "3f7a883c",
   "metadata": {},
   "source": [
    "1. Find the best number of clusters:\n",
    "----------------\n",
    "By taking the variables before mentioned is necessary fit k means for a range of clusters, then, create an elbow plot to see what is the best number of clusters for the data."
   ]
  },
  {
   "cell_type": "markdown",
   "id": "dc44bd88",
   "metadata": {},
   "source": [
    "2. Data visualization:\n",
    "----------------\n",
    "An scatter plot of the clusters will be uselful to see how the municipalities were grouped."
   ]
  },
  {
   "cell_type": "markdown",
   "id": "832f8a62",
   "metadata": {},
   "source": [
    "3. Data analysis:\n",
    "----------------\n",
    "One the cluster are made, it is possible to analyze why the municipalities where grouped in that way, here, social and economical factors can be the key."
   ]
  },
  {
   "cell_type": "markdown",
   "id": "86f8c5d5",
   "metadata": {},
   "source": [
    "## Frameworks and libraries for the project "
   ]
  },
  {
   "cell_type": "markdown",
   "id": "9a047bd0",
   "metadata": {},
   "source": [
    "I would use **sci kit learn** to solve this problem, specifically I would use the **cluster** library. "
   ]
  },
  {
   "cell_type": "markdown",
   "id": "3fc4e33f",
   "metadata": {},
   "source": [
    "To get the goals of analyze at different scales of time the crime incidence, and map this results to visualize the location, I estimate I finish this project in 5 to 7 days."
   ]
  },
  {
   "cell_type": "markdown",
   "id": "bc4077e1",
   "metadata": {},
   "source": [
    "## Bonus "
   ]
  },
  {
   "cell_type": "code",
   "execution_count": null,
   "id": "99dfb5c9",
   "metadata": {},
   "outputs": [],
   "source": []
  }
 ],
 "metadata": {
  "kernelspec": {
   "display_name": "Python 3 (ipykernel)",
   "language": "python",
   "name": "python3"
  },
  "language_info": {
   "codemirror_mode": {
    "name": "ipython",
    "version": 3
   },
   "file_extension": ".py",
   "mimetype": "text/x-python",
   "name": "python",
   "nbconvert_exporter": "python",
   "pygments_lexer": "ipython3",
   "version": "3.9.12"
  }
 },
 "nbformat": 4,
 "nbformat_minor": 5
}
